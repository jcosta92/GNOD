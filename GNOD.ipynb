{
 "cells": [
  {
   "cell_type": "markdown",
   "id": "e40f1c79",
   "metadata": {},
   "source": [
    "# Libraries"
   ]
  },
  {
   "cell_type": "code",
   "execution_count": 1,
   "id": "ffbe354f",
   "metadata": {},
   "outputs": [],
   "source": [
    "import spotipy\n",
    "from spotipy.oauth2 import SpotifyClientCredentials\n",
    "from spotipy.oauth2 import SpotifyOAuth\n",
    "import pandas as pd\n",
    "import numpy as np\n",
    "import math\n",
    "from sklearn.preprocessing import MinMaxScaler\n",
    "from sklearn.cluster import KMeans\n",
    "import matplotlib.pyplot as plt\n",
    "from sklearn.metrics import silhouette_score\n",
    "import pickle\n",
    "from sklearn.cluster import DBSCAN\n",
    "from sklearn.neighbors import NearestNeighbors\n",
    "from fuzzywuzzy import fuzz\n",
    "from fuzzywuzzy import process\n",
    "import requests\n",
    "import random\n",
    "from bs4 import BeautifulSoup"
   ]
  },
  {
   "cell_type": "markdown",
   "id": "3e8c67b1",
   "metadata": {},
   "source": [
    "###### Calling spotipy"
   ]
  },
  {
   "cell_type": "code",
   "execution_count": 2,
   "id": "a930f375",
   "metadata": {},
   "outputs": [],
   "source": [
    "sp = spotipy.Spotify(auth_manager=SpotifyOAuth(scope = \"playlist-read-private\",\n",
    "                                               client_id=\"3b823a01133645dc88af2d847c9de4f1\",\n",
    "                                               client_secret=\"f6d0ddc96e6146ce8979bd711437efb8\",\n",
    "                                               redirect_uri=\"http://localhost:3000\"))"
   ]
  },
  {
   "cell_type": "markdown",
   "id": "4ec76dd8",
   "metadata": {},
   "source": [
    "----"
   ]
  },
  {
   "cell_type": "markdown",
   "id": "e9929747",
   "metadata": {},
   "source": [
    "# Functions"
   ]
  },
  {
   "cell_type": "markdown",
   "id": "626d59e6",
   "metadata": {},
   "source": [
    "###### Normalizing"
   ]
  },
  {
   "cell_type": "code",
   "execution_count": 3,
   "id": "4fd5eaeb",
   "metadata": {},
   "outputs": [],
   "source": [
    "def normalize_numeric_data(numeric):\n",
    "    numeric_min_max = numeric.copy()\n",
    "    scaler = MinMaxScaler()\n",
    "\n",
    "    for col in numeric.columns:\n",
    "        numeric_min_max[col] = scaler.fit_transform(numeric[[col]])\n",
    "\n",
    "    return numeric_min_max"
   ]
  },
  {
   "cell_type": "markdown",
   "id": "aaf539ce",
   "metadata": {},
   "source": [
    "###### Clustering with KMeans"
   ]
  },
  {
   "cell_type": "code",
   "execution_count": 4,
   "id": "23dacf85",
   "metadata": {},
   "outputs": [],
   "source": [
    "def perform_clustering(numeric_min_max, df_combined):\n",
    "    kmeans = KMeans(n_clusters=50, random_state=1234)\n",
    "    kmeans.fit(numeric_min_max)\n",
    "    clusters = kmeans.predict(numeric_min_max)\n",
    "    final_df = df_combined.copy()\n",
    "    final_df[\"cluster\"] = clusters\n",
    "\n",
    "    return final_df"
   ]
  },
  {
   "cell_type": "markdown",
   "id": "af0360bc",
   "metadata": {},
   "source": [
    "##### Getting the recommendation song"
   ]
  },
  {
   "cell_type": "code",
   "execution_count": 5,
   "id": "352aea33",
   "metadata": {},
   "outputs": [],
   "source": [
    "def get_song_title(final_df):\n",
    "    last_cluster_value = final_df[\"cluster\"].iloc[-1]  # Get the value of the last row in the \"cluster\" column\n",
    "    filtered_df = final_df[final_df[\"cluster\"] == last_cluster_value]\n",
    "    songs_to_choose_from = filtered_df.iloc[:-1]\n",
    "    random_song = songs_to_choose_from.sample(random_state=random.seed())\n",
    "\n",
    "    song_id = random_song[\"Song ID\"].values[0]\n",
    "\n",
    "    #search random id\n",
    "    song_url = f\"https://open.spotify.com/track/{song_id}\"\n",
    "    response = requests.get(song_url)\n",
    "    soup = BeautifulSoup(response.text, \"html.parser\")\n",
    "    song_title = soup.title.get_text()\n",
    "\n",
    "    return song_title"
   ]
  },
  {
   "cell_type": "markdown",
   "id": "c2775649",
   "metadata": {},
   "source": [
    "###### Search for that song and returning a recommendation"
   ]
  },
  {
   "cell_type": "code",
   "execution_count": 6,
   "id": "d2b98be5",
   "metadata": {},
   "outputs": [],
   "source": [
    "def search_song(df):\n",
    "    # User input to search for a song\n",
    "    search_query = input(\"Enter a Rock song name to search: \")\n",
    "\n",
    "    results = sp.search(q=search_query, type='track')\n",
    "\n",
    "    if results['tracks']['items']:\n",
    "        track_id = results['tracks']['items'][0]['id']\n",
    "    else:\n",
    "        print(\"Song not found.\")\n",
    "        return\n",
    "\n",
    "    if track_id in df[\"Song ID\"].values:\n",
    "        print(\"It is a HOT song from our dataframe! Keep on Rocking.\")\n",
    "    else:\n",
    "        print(\"It is not a HOT song from our dataframe!\")\n",
    "\n",
    "        df_newsong_id = pd.DataFrame({\"Song ID\": [track_id]})\n",
    "\n",
    "        # getting the new audio features for the new track\n",
    "        audio_features = sp.audio_features(track_id)[0]\n",
    "        df_newsong_features = pd.DataFrame(audio_features, index=[0])\n",
    "\n",
    "        df_newsong = pd.concat([df_newsong_id, df_newsong_features], axis=1)\n",
    "\n",
    "        df_combined = pd.concat([df, df_newsong], axis=0).reset_index(drop=True)\n",
    "        numeric = df_combined.select_dtypes(include=[np.number])\n",
    "        \n",
    "        #calling normalizating function\n",
    "        numeric_min_max=normalize_numeric_data(numeric)\n",
    "        \n",
    "        #calling clustering function\n",
    "        final_df=perform_clustering(numeric_min_max, df_combined)\n",
    "        \n",
    "        #calling geting song title\n",
    "        song_title=get_song_title(final_df)\n",
    "        \n",
    "        print(\"We recommend the following song: \",song_title)"
   ]
  },
  {
   "cell_type": "markdown",
   "id": "f4a26de6",
   "metadata": {},
   "source": [
    "-----"
   ]
  },
  {
   "cell_type": "markdown",
   "id": "6d2c38ab",
   "metadata": {},
   "source": [
    "------"
   ]
  },
  {
   "cell_type": "markdown",
   "id": "f8b10499",
   "metadata": {},
   "source": [
    "# Clean - Music Recommendation"
   ]
  },
  {
   "cell_type": "code",
   "execution_count": 8,
   "id": "70539148",
   "metadata": {},
   "outputs": [
    {
     "name": "stdout",
     "output_type": "stream",
     "text": [
      "Enter a Rock song name to search: You got the Love\n",
      "It is not a HOT song from our dataframe!\n",
      "We recommend the following song:  Nothing Compares 2 U - song and lyrics by Prince | Spotify\n"
     ]
    }
   ],
   "source": [
    "df=pd.read_csv(\"df.csv\")\n",
    "search_song(df)"
   ]
  },
  {
   "cell_type": "markdown",
   "id": "2248f24d",
   "metadata": {},
   "source": [
    "----"
   ]
  }
 ],
 "metadata": {
  "kernelspec": {
   "display_name": "Python 3 (ipykernel)",
   "language": "python",
   "name": "python3"
  },
  "language_info": {
   "codemirror_mode": {
    "name": "ipython",
    "version": 3
   },
   "file_extension": ".py",
   "mimetype": "text/x-python",
   "name": "python",
   "nbconvert_exporter": "python",
   "pygments_lexer": "ipython3",
   "version": "3.9.12"
  }
 },
 "nbformat": 4,
 "nbformat_minor": 5
}
